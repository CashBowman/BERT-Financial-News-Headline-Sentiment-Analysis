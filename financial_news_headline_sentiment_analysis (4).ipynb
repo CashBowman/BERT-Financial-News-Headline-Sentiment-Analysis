{
 "cells": [
  {
   "cell_type": "markdown",
   "id": "a5494636-1ee7-4344-808a-90cd10a80275",
   "metadata": {},
   "source": [
    "# Financial News Headline Sentiment Analysis with BERT\n",
    "This is a short notebook that loads news headlines from three news sources, CNBC, Guardian, and Reuters; then perform sentiment analsyis with Bert!"
   ]
  },
  {
   "cell_type": "markdown",
   "id": "71cbb32d-2bea-4a59-b55a-49ee910ffe83",
   "metadata": {},
   "source": [
    "## Dependencies"
   ]
  },
  {
   "cell_type": "code",
   "execution_count": 1,
   "id": "e0445f61-1045-4a5f-804a-bf06046c2e6d",
   "metadata": {},
   "outputs": [
    {
     "name": "stdout",
     "output_type": "stream",
     "text": [
      "Requirement already satisfied: transformers in c:\\users\\cb\\appdata\\local\\programs\\python\\python311\\lib\\site-packages (4.32.0)\n",
      "Requirement already satisfied: filelock in c:\\users\\cb\\appdata\\local\\programs\\python\\python311\\lib\\site-packages (from transformers) (3.12.2)\n",
      "Requirement already satisfied: huggingface-hub<1.0,>=0.15.1 in c:\\users\\cb\\appdata\\local\\programs\\python\\python311\\lib\\site-packages (from transformers) (0.16.4)\n",
      "Requirement already satisfied: numpy>=1.17 in c:\\users\\cb\\appdata\\local\\programs\\python\\python311\\lib\\site-packages (from transformers) (1.24.4)\n",
      "Requirement already satisfied: packaging>=20.0 in c:\\users\\cb\\appdata\\local\\programs\\python\\python311\\lib\\site-packages (from transformers) (23.1)\n",
      "Requirement already satisfied: pyyaml>=5.1 in c:\\users\\cb\\appdata\\local\\programs\\python\\python311\\lib\\site-packages (from transformers) (6.0.1)\n",
      "Requirement already satisfied: regex!=2019.12.17 in c:\\users\\cb\\appdata\\local\\programs\\python\\python311\\lib\\site-packages (from transformers) (2023.8.8)\n",
      "Requirement already satisfied: requests in c:\\users\\cb\\appdata\\local\\programs\\python\\python311\\lib\\site-packages (from transformers) (2.31.0)\n",
      "Requirement already satisfied: tokenizers!=0.11.3,<0.14,>=0.11.1 in c:\\users\\cb\\appdata\\local\\programs\\python\\python311\\lib\\site-packages (from transformers) (0.13.3)\n",
      "Requirement already satisfied: safetensors>=0.3.1 in c:\\users\\cb\\appdata\\local\\programs\\python\\python311\\lib\\site-packages (from transformers) (0.3.3)\n",
      "Requirement already satisfied: tqdm>=4.27 in c:\\users\\cb\\appdata\\local\\programs\\python\\python311\\lib\\site-packages (from transformers) (4.66.1)\n",
      "Requirement already satisfied: fsspec in c:\\users\\cb\\appdata\\local\\programs\\python\\python311\\lib\\site-packages (from huggingface-hub<1.0,>=0.15.1->transformers) (2023.6.0)\n",
      "Requirement already satisfied: typing-extensions>=3.7.4.3 in c:\\users\\cb\\appdata\\local\\programs\\python\\python311\\lib\\site-packages (from huggingface-hub<1.0,>=0.15.1->transformers) (4.5.0)\n",
      "Requirement already satisfied: colorama in c:\\users\\cb\\appdata\\local\\programs\\python\\python311\\lib\\site-packages (from tqdm>=4.27->transformers) (0.4.6)\n",
      "Requirement already satisfied: charset-normalizer<4,>=2 in c:\\users\\cb\\appdata\\local\\programs\\python\\python311\\lib\\site-packages (from requests->transformers) (3.2.0)\n",
      "Requirement already satisfied: idna<4,>=2.5 in c:\\users\\cb\\appdata\\local\\programs\\python\\python311\\lib\\site-packages (from requests->transformers) (3.4)\n",
      "Requirement already satisfied: urllib3<3,>=1.21.1 in c:\\users\\cb\\appdata\\local\\programs\\python\\python311\\lib\\site-packages (from requests->transformers) (1.26.16)\n",
      "Requirement already satisfied: certifi>=2017.4.17 in c:\\users\\cb\\appdata\\local\\programs\\python\\python311\\lib\\site-packages (from requests->transformers) (2023.7.22)\n"
     ]
    }
   ],
   "source": [
    "!pip install transformers"
   ]
  },
  {
   "cell_type": "code",
   "execution_count": 2,
   "id": "450d6997-548a-4d39-ad1f-a1c28e7bc34e",
   "metadata": {},
   "outputs": [],
   "source": [
    "from transformers import AutoTokenizer, AutoModelForSequenceClassification\n",
    "import torch"
   ]
  },
  {
   "cell_type": "markdown",
   "id": "0f267055-1c27-49e4-83fc-9dfa9b09e615",
   "metadata": {},
   "source": [
    "## Instantiate Model"
   ]
  },
  {
   "cell_type": "code",
   "execution_count": 3,
   "id": "a7a5590a-7901-4910-9882-5351951a5102",
   "metadata": {},
   "outputs": [],
   "source": [
    "tokenizer = AutoTokenizer.from_pretrained('nlptown/bert-base-multilingual-uncased-sentiment')\n",
    "\n",
    "model = AutoModelForSequenceClassification.from_pretrained('nlptown/bert-base-multilingual-uncased-sentiment')"
   ]
  },
  {
   "cell_type": "markdown",
   "id": "cbfebe9f-3054-43e2-8c6c-ff35cfa7622e",
   "metadata": {},
   "source": [
    "## Test out the model"
   ]
  },
  {
   "cell_type": "code",
   "execution_count": 4,
   "id": "6ab12f79-ff84-42a2-b4f2-8ada3231b051",
   "metadata": {},
   "outputs": [],
   "source": [
    "#Encode\n",
    "tokens = tokenizer.encode('It was good but couldve been better. Great', return_tensors='pt')\n",
    "result = model(tokens)"
   ]
  },
  {
   "cell_type": "code",
   "execution_count": 5,
   "id": "8547e4a9-0539-4f3c-8433-fadd6b1b3515",
   "metadata": {},
   "outputs": [
    {
     "data": {
      "text/plain": [
       "4"
      ]
     },
     "execution_count": 5,
     "metadata": {},
     "output_type": "execute_result"
    }
   ],
   "source": [
    "#Sentiment\n",
    "result.logits\n",
    "int(torch.argmax(result.logits))+1"
   ]
  },
  {
   "cell_type": "markdown",
   "id": "6c7c3680-b7d4-4eaf-8f0b-71f3d7d54e10",
   "metadata": {},
   "source": [
    "## Let's get the news data"
   ]
  },
  {
   "cell_type": "markdown",
   "id": "e16d8e6a-15d0-43e7-a0c9-974e5b2996f7",
   "metadata": {},
   "source": [
    "Imports"
   ]
  },
  {
   "cell_type": "code",
   "execution_count": 6,
   "id": "97872787-323c-469c-9cd3-21304cd9c2f1",
   "metadata": {},
   "outputs": [],
   "source": [
    "import numpy as np\n",
    "import pandas as pd"
   ]
  },
  {
   "cell_type": "code",
   "execution_count": 103,
   "id": "c88c0d06-ae34-4585-bd01-0bc29ff6f9cc",
   "metadata": {},
   "outputs": [],
   "source": [
    "cnbc_df =  pd.read_csv(\"cnbc_headlines.csv\")\n",
    "guardian_df =  pd.read_csv(\"guardian_headlines.csv\")\n",
    "reuters_df =  pd.read_csv(\"reuters_headlines.csv\")"
   ]
  },
  {
   "cell_type": "markdown",
   "id": "f2eae991-0ba8-4962-b6c1-bddf8f8e57ab",
   "metadata": {},
   "source": [
    "### CNBC Data"
   ]
  },
  {
   "cell_type": "code",
   "execution_count": 100,
   "id": "c7e67e0f-a60e-461e-95ce-9ae037e961bb",
   "metadata": {},
   "outputs": [
    {
     "data": {
      "text/plain": [
       "Index(['Headlines', 'Time', 'Description'], dtype='object')"
      ]
     },
     "execution_count": 100,
     "metadata": {},
     "output_type": "execute_result"
    }
   ],
   "source": [
    "cnbc_df.columns"
   ]
  },
  {
   "cell_type": "code",
   "execution_count": 106,
   "id": "e74a7604-0a41-4a26-9e2f-73f83ab64efb",
   "metadata": {},
   "outputs": [
    {
     "data": {
      "text/html": [
       "<div>\n",
       "<style scoped>\n",
       "    .dataframe tbody tr th:only-of-type {\n",
       "        vertical-align: middle;\n",
       "    }\n",
       "\n",
       "    .dataframe tbody tr th {\n",
       "        vertical-align: top;\n",
       "    }\n",
       "\n",
       "    .dataframe thead th {\n",
       "        text-align: right;\n",
       "    }\n",
       "</style>\n",
       "<table border=\"1\" class=\"dataframe\">\n",
       "  <thead>\n",
       "    <tr style=\"text-align: right;\">\n",
       "      <th></th>\n",
       "      <th>Headlines</th>\n",
       "      <th>Time</th>\n",
       "      <th>Description</th>\n",
       "    </tr>\n",
       "  </thead>\n",
       "  <tbody>\n",
       "    <tr>\n",
       "      <th>0</th>\n",
       "      <td>Jim Cramer: A better way to invest in the Covi...</td>\n",
       "      <td>7:51  PM ET Fri, 17 July 2020</td>\n",
       "      <td>\"Mad Money\" host Jim Cramer recommended buying...</td>\n",
       "    </tr>\n",
       "    <tr>\n",
       "      <th>1</th>\n",
       "      <td>Cramer's lightning round: I would own Teradyne</td>\n",
       "      <td>7:33  PM ET Fri, 17 July 2020</td>\n",
       "      <td>\"Mad Money\" host Jim Cramer rings the lightnin...</td>\n",
       "    </tr>\n",
       "    <tr>\n",
       "      <th>3</th>\n",
       "      <td>Cramer's week ahead: Big week for earnings, ev...</td>\n",
       "      <td>7:25  PM ET Fri, 17 July 2020</td>\n",
       "      <td>\"We'll pay more for the earnings of the non-Co...</td>\n",
       "    </tr>\n",
       "    <tr>\n",
       "      <th>4</th>\n",
       "      <td>IQ Capital CEO Keith Bliss says tech and healt...</td>\n",
       "      <td>4:24  PM ET Fri, 17 July 2020</td>\n",
       "      <td>Keith Bliss, IQ Capital CEO, joins \"Closing Be...</td>\n",
       "    </tr>\n",
       "    <tr>\n",
       "      <th>5</th>\n",
       "      <td>Wall Street delivered the 'kind of pullback I'...</td>\n",
       "      <td>7:36  PM ET Thu, 16 July 2020</td>\n",
       "      <td>\"Look for the stocks of high-quality companies...</td>\n",
       "    </tr>\n",
       "    <tr>\n",
       "      <th>...</th>\n",
       "      <td>...</td>\n",
       "      <td>...</td>\n",
       "      <td>...</td>\n",
       "    </tr>\n",
       "    <tr>\n",
       "      <th>3075</th>\n",
       "      <td>Markets lack Christmas cheer</td>\n",
       "      <td>10:15  AM ET Tue, 26 Dec 2017</td>\n",
       "      <td>According to Kensho, here's how markets have f...</td>\n",
       "    </tr>\n",
       "    <tr>\n",
       "      <th>3076</th>\n",
       "      <td>Cramer Remix: The biggest mistake you can make...</td>\n",
       "      <td>11:12  AM ET Thu, 20 Sept 2018</td>\n",
       "      <td>Jim Cramer revealed his top rule when it comes...</td>\n",
       "    </tr>\n",
       "    <tr>\n",
       "      <th>3077</th>\n",
       "      <td>Cramer says owning too many stocks and too lit...</td>\n",
       "      <td>7:07  PM ET Fri, 22 Dec 2017</td>\n",
       "      <td>Jim Cramer broke down why owning fewer stocks ...</td>\n",
       "    </tr>\n",
       "    <tr>\n",
       "      <th>3078</th>\n",
       "      <td>Cramer: I helped investors through the 2010 fl...</td>\n",
       "      <td>7:07  PM ET Fri, 22 Dec 2017</td>\n",
       "      <td>Jim Cramer built on his \"nobody ever made a di...</td>\n",
       "    </tr>\n",
       "    <tr>\n",
       "      <th>3079</th>\n",
       "      <td>Cramer: Never buy a stock all at once — you'll...</td>\n",
       "      <td>6:52  PM ET Fri, 22 Dec 2017</td>\n",
       "      <td>Jim Cramer doubled down on his key investing r...</td>\n",
       "    </tr>\n",
       "  </tbody>\n",
       "</table>\n",
       "<p>2800 rows × 3 columns</p>\n",
       "</div>"
      ],
      "text/plain": [
       "                                              Headlines  \\\n",
       "0     Jim Cramer: A better way to invest in the Covi...   \n",
       "1        Cramer's lightning round: I would own Teradyne   \n",
       "3     Cramer's week ahead: Big week for earnings, ev...   \n",
       "4     IQ Capital CEO Keith Bliss says tech and healt...   \n",
       "5     Wall Street delivered the 'kind of pullback I'...   \n",
       "...                                                 ...   \n",
       "3075                       Markets lack Christmas cheer   \n",
       "3076  Cramer Remix: The biggest mistake you can make...   \n",
       "3077  Cramer says owning too many stocks and too lit...   \n",
       "3078  Cramer: I helped investors through the 2010 fl...   \n",
       "3079  Cramer: Never buy a stock all at once — you'll...   \n",
       "\n",
       "                                Time  \\\n",
       "0      7:51  PM ET Fri, 17 July 2020   \n",
       "1      7:33  PM ET Fri, 17 July 2020   \n",
       "3      7:25  PM ET Fri, 17 July 2020   \n",
       "4      4:24  PM ET Fri, 17 July 2020   \n",
       "5      7:36  PM ET Thu, 16 July 2020   \n",
       "...                              ...   \n",
       "3075   10:15  AM ET Tue, 26 Dec 2017   \n",
       "3076  11:12  AM ET Thu, 20 Sept 2018   \n",
       "3077    7:07  PM ET Fri, 22 Dec 2017   \n",
       "3078    7:07  PM ET Fri, 22 Dec 2017   \n",
       "3079    6:52  PM ET Fri, 22 Dec 2017   \n",
       "\n",
       "                                            Description  \n",
       "0     \"Mad Money\" host Jim Cramer recommended buying...  \n",
       "1     \"Mad Money\" host Jim Cramer rings the lightnin...  \n",
       "3     \"We'll pay more for the earnings of the non-Co...  \n",
       "4     Keith Bliss, IQ Capital CEO, joins \"Closing Be...  \n",
       "5     \"Look for the stocks of high-quality companies...  \n",
       "...                                                 ...  \n",
       "3075  According to Kensho, here's how markets have f...  \n",
       "3076  Jim Cramer revealed his top rule when it comes...  \n",
       "3077  Jim Cramer broke down why owning fewer stocks ...  \n",
       "3078  Jim Cramer built on his \"nobody ever made a di...  \n",
       "3079  Jim Cramer doubled down on his key investing r...  \n",
       "\n",
       "[2800 rows x 3 columns]"
      ]
     },
     "execution_count": 106,
     "metadata": {},
     "output_type": "execute_result"
    }
   ],
   "source": [
    "cnbc_df"
   ]
  },
  {
   "cell_type": "code",
   "execution_count": 107,
   "id": "b8523945-1113-48ba-a613-94194104a66e",
   "metadata": {},
   "outputs": [],
   "source": [
    "# we are not using Description column because guardian doesn't have one\n",
    "cnbc_df = cnbc_df.drop(['Description'] , axis = 1)"
   ]
  },
  {
   "cell_type": "code",
   "execution_count": null,
   "id": "fcb84431-e281-4f19-a858-30f7799234ba",
   "metadata": {},
   "outputs": [],
   "source": [
    "cnbc_df.info()"
   ]
  },
  {
   "cell_type": "code",
   "execution_count": null,
   "id": "e4733ba8-3633-4b57-a420-83edb2d20db0",
   "metadata": {},
   "outputs": [],
   "source": [
    "cnbc_df.isna().sum()"
   ]
  },
  {
   "cell_type": "code",
   "execution_count": 110,
   "id": "f58bee70-27d5-4c61-8155-78c4cf5d1160",
   "metadata": {},
   "outputs": [],
   "source": [
    "cnbc_df.dropna(inplace=True)"
   ]
  },
  {
   "cell_type": "markdown",
   "id": "b82cca5e-4ec3-460f-831c-72e266c37c55",
   "metadata": {},
   "source": [
    "### Guardian Data"
   ]
  },
  {
   "cell_type": "code",
   "execution_count": 111,
   "id": "0248c73c-bc61-468d-96e3-2fbdff8538e1",
   "metadata": {},
   "outputs": [
    {
     "data": {
      "text/plain": [
       "<bound method NDFrame.head of             Time                                          Headlines\n",
       "0      18-Jul-20   Johnson is asking Santa for a Christmas recovery\n",
       "1      18-Jul-20  ‘I now fear the worst’: four grim tales of wor...\n",
       "2      18-Jul-20  Five key areas Sunak must tackle to serve up e...\n",
       "3      18-Jul-20  Covid-19 leaves firms ‘fatally ill-prepared’ f...\n",
       "4      18-Jul-20  The Week in Patriarchy  \\n\\n\\n  Bacardi's 'lad...\n",
       "...          ...                                                ...\n",
       "17795  17-Dec-17  How investing in solar energy can create a bri...\n",
       "17796  17-Dec-17     Poundland suppliers hit by insurance downgrade\n",
       "17797  17-Dec-17  Cryptocurrencies: City watchdog to investigate...\n",
       "17798  17-Dec-17  Unilever sells household name spreads to KKR f...\n",
       "17799  17-Dec-17  The Guardian view on Ryanair’s model: a union-...\n",
       "\n",
       "[17800 rows x 2 columns]>"
      ]
     },
     "execution_count": 111,
     "metadata": {},
     "output_type": "execute_result"
    }
   ],
   "source": [
    "guardian_df.head"
   ]
  },
  {
   "cell_type": "code",
   "execution_count": 112,
   "id": "06973f40-1e7a-48ab-84c5-acd9626838aa",
   "metadata": {},
   "outputs": [
    {
     "data": {
      "text/plain": [
       "Time                                                18-Jul-20\n",
       "Headlines    Johnson is asking Santa for a Christmas recovery\n",
       "Name: 0, dtype: object"
      ]
     },
     "execution_count": 112,
     "metadata": {},
     "output_type": "execute_result"
    }
   ],
   "source": [
    "guardian_df.iloc[0]"
   ]
  },
  {
   "cell_type": "code",
   "execution_count": 132,
   "id": "235d32e4-aaaf-4292-9018-b99c751264f5",
   "metadata": {},
   "outputs": [
    {
     "data": {
      "text/plain": [
       "Time         0\n",
       "Headlines    0\n",
       "Sentiment    0\n",
       "dtype: int64"
      ]
     },
     "execution_count": 132,
     "metadata": {},
     "output_type": "execute_result"
    }
   ],
   "source": [
    "guardian_df.isnull().sum()"
   ]
  },
  {
   "cell_type": "markdown",
   "id": "ebe1a92c-ac31-43f7-af92-c6813fcb7d01",
   "metadata": {},
   "source": [
    "### Reuters Data"
   ]
  },
  {
   "cell_type": "code",
   "execution_count": 113,
   "id": "358c6932-e388-41dc-b299-ed8d92c60f7f",
   "metadata": {},
   "outputs": [
    {
     "data": {
      "text/plain": [
       "<bound method NDFrame.head of                                                Headlines         Time  \\\n",
       "0      TikTok considers London and other locations fo...  Jul 18 2020   \n",
       "1      Disney cuts ad spending on Facebook amid growi...  Jul 18 2020   \n",
       "2      Trail of missing Wirecard executive leads to B...  Jul 18 2020   \n",
       "3      Twitter says attackers downloaded data from up...  Jul 18 2020   \n",
       "4      U.S. Republicans seek liability protections as...  Jul 17 2020   \n",
       "...                                                  ...          ...   \n",
       "32765  Malaysia says never hired British data firm at...  Mar 20 2018   \n",
       "32766  Prosecutors search Volkswagen headquarters in ...  Mar 20 2018   \n",
       "32767   McDonald's sets greenhouse gas reduction targets  Mar 20 2018   \n",
       "32768  Pratt & Whitney to deliver spare A320neo engin...  Mar 20 2018   \n",
       "32769  UK will always consider ways to improve data l...  Mar 20 2018   \n",
       "\n",
       "                                             Description  \n",
       "0      TikTok has been in discussions with the UK gov...  \n",
       "1      Walt Disney  has become the latest company to ...  \n",
       "2      Former Wirecard  chief operating officer Jan M...  \n",
       "3      Twitter Inc said on Saturday that hackers were...  \n",
       "4      A battle in the U.S. Congress over a new coron...  \n",
       "...                                                  ...  \n",
       "32765  The Malaysian government and the ruling party ...  \n",
       "32766  German prosecutors said on Tuesday they had se...  \n",
       "32767  McDonald's Corp on Tuesday announced an approv...  \n",
       "32768  Pratt & Whitney will soon begin deliveries of ...  \n",
       "32769  Britain will consider any suggestions to give ...  \n",
       "\n",
       "[32770 rows x 3 columns]>"
      ]
     },
     "execution_count": 113,
     "metadata": {},
     "output_type": "execute_result"
    }
   ],
   "source": [
    "reuters_df.head"
   ]
  },
  {
   "cell_type": "code",
   "execution_count": 114,
   "id": "6708bb76-0ec3-4593-8451-d2b54ae36146",
   "metadata": {},
   "outputs": [
    {
     "data": {
      "text/plain": [
       "Headlines      TikTok considers London and other locations fo...\n",
       "Time                                                 Jul 18 2020\n",
       "Description    TikTok has been in discussions with the UK gov...\n",
       "Name: 0, dtype: object"
      ]
     },
     "execution_count": 114,
     "metadata": {},
     "output_type": "execute_result"
    }
   ],
   "source": [
    "reuters_df.iloc[0]"
   ]
  },
  {
   "cell_type": "code",
   "execution_count": 115,
   "id": "2753363d-dd10-4b5d-9f1d-89b3cc5ba01c",
   "metadata": {},
   "outputs": [
    {
     "data": {
      "text/plain": [
       "Headlines      0\n",
       "Time           0\n",
       "Description    0\n",
       "dtype: int64"
      ]
     },
     "execution_count": 115,
     "metadata": {},
     "output_type": "execute_result"
    }
   ],
   "source": [
    "reuters_df.isnull().sum()"
   ]
  },
  {
   "cell_type": "code",
   "execution_count": 116,
   "id": "01daffe3-2909-42f9-94bb-c6890f5df967",
   "metadata": {},
   "outputs": [],
   "source": [
    "reuters_df = reuters_df.drop(['Description'] , axis = 1)"
   ]
  },
  {
   "cell_type": "markdown",
   "id": "bfe4aa89-7054-46b8-afa8-1018b7b4d162",
   "metadata": {},
   "source": [
    "## Run Data through BERT"
   ]
  },
  {
   "cell_type": "code",
   "execution_count": 117,
   "id": "9aeeb59c-9593-4922-8739-ce572a2c3ad6",
   "metadata": {},
   "outputs": [],
   "source": [
    "# Function that takes in news and outputs sentiment\n",
    "def sentiment_score(news):\n",
    "    tokens = tokenizer.encode(news, return_tensors='pt')\n",
    "    result = model(tokens)\n",
    "    return int(torch.argmax(result.logits))+1"
   ]
  },
  {
   "cell_type": "code",
   "execution_count": 118,
   "id": "21d81ebe-a2da-45c3-9c7b-b05268090c3b",
   "metadata": {},
   "outputs": [],
   "source": [
    "# Send each news outlet's headlines through the BART Model and store the Sentiment output. This may take a while ... \n",
    "cnbc_df['Sentiment'] = cnbc_df['Headlines'].apply(lambda x: sentiment_score(x[:]))\n",
    "guardian_df['Sentiment'] = guardian_df['Headlines'].apply(lambda x: sentiment_score(x[:]))\n",
    "reuters_df['Sentiment'] = reuters_df['Headlines'].apply(lambda x: sentiment_score(x[:]))"
   ]
  },
  {
   "cell_type": "code",
   "execution_count": 133,
   "id": "1e996d36-59cf-4622-bd58-271a1b08f03d",
   "metadata": {},
   "outputs": [
    {
     "data": {
      "text/html": [
       "<div>\n",
       "<style scoped>\n",
       "    .dataframe tbody tr th:only-of-type {\n",
       "        vertical-align: middle;\n",
       "    }\n",
       "\n",
       "    .dataframe tbody tr th {\n",
       "        vertical-align: top;\n",
       "    }\n",
       "\n",
       "    .dataframe thead th {\n",
       "        text-align: right;\n",
       "    }\n",
       "</style>\n",
       "<table border=\"1\" class=\"dataframe\">\n",
       "  <thead>\n",
       "    <tr style=\"text-align: right;\">\n",
       "      <th></th>\n",
       "      <th>Headlines</th>\n",
       "      <th>Time</th>\n",
       "      <th>Sentiment</th>\n",
       "    </tr>\n",
       "  </thead>\n",
       "  <tbody>\n",
       "    <tr>\n",
       "      <th>0</th>\n",
       "      <td>Jim Cramer: A better way to invest in the Covi...</td>\n",
       "      <td>7:51  PM ET Fri, 17 July 2020</td>\n",
       "      <td>5</td>\n",
       "    </tr>\n",
       "    <tr>\n",
       "      <th>1</th>\n",
       "      <td>Cramer's lightning round: I would own Teradyne</td>\n",
       "      <td>7:33  PM ET Fri, 17 July 2020</td>\n",
       "      <td>4</td>\n",
       "    </tr>\n",
       "    <tr>\n",
       "      <th>3</th>\n",
       "      <td>Cramer's week ahead: Big week for earnings, ev...</td>\n",
       "      <td>7:25  PM ET Fri, 17 July 2020</td>\n",
       "      <td>5</td>\n",
       "    </tr>\n",
       "    <tr>\n",
       "      <th>4</th>\n",
       "      <td>IQ Capital CEO Keith Bliss says tech and healt...</td>\n",
       "      <td>4:24  PM ET Fri, 17 July 2020</td>\n",
       "      <td>5</td>\n",
       "    </tr>\n",
       "    <tr>\n",
       "      <th>5</th>\n",
       "      <td>Wall Street delivered the 'kind of pullback I'...</td>\n",
       "      <td>7:36  PM ET Thu, 16 July 2020</td>\n",
       "      <td>4</td>\n",
       "    </tr>\n",
       "    <tr>\n",
       "      <th>...</th>\n",
       "      <td>...</td>\n",
       "      <td>...</td>\n",
       "      <td>...</td>\n",
       "    </tr>\n",
       "    <tr>\n",
       "      <th>3075</th>\n",
       "      <td>Markets lack Christmas cheer</td>\n",
       "      <td>10:15  AM ET Tue, 26 Dec 2017</td>\n",
       "      <td>1</td>\n",
       "    </tr>\n",
       "    <tr>\n",
       "      <th>3076</th>\n",
       "      <td>Cramer Remix: The biggest mistake you can make...</td>\n",
       "      <td>11:12  AM ET Thu, 20 Sept 2018</td>\n",
       "      <td>1</td>\n",
       "    </tr>\n",
       "    <tr>\n",
       "      <th>3077</th>\n",
       "      <td>Cramer says owning too many stocks and too lit...</td>\n",
       "      <td>7:07  PM ET Fri, 22 Dec 2017</td>\n",
       "      <td>1</td>\n",
       "    </tr>\n",
       "    <tr>\n",
       "      <th>3078</th>\n",
       "      <td>Cramer: I helped investors through the 2010 fl...</td>\n",
       "      <td>7:07  PM ET Fri, 22 Dec 2017</td>\n",
       "      <td>4</td>\n",
       "    </tr>\n",
       "    <tr>\n",
       "      <th>3079</th>\n",
       "      <td>Cramer: Never buy a stock all at once — you'll...</td>\n",
       "      <td>6:52  PM ET Fri, 22 Dec 2017</td>\n",
       "      <td>1</td>\n",
       "    </tr>\n",
       "  </tbody>\n",
       "</table>\n",
       "<p>2800 rows × 3 columns</p>\n",
       "</div>"
      ],
      "text/plain": [
       "                                              Headlines  \\\n",
       "0     Jim Cramer: A better way to invest in the Covi...   \n",
       "1        Cramer's lightning round: I would own Teradyne   \n",
       "3     Cramer's week ahead: Big week for earnings, ev...   \n",
       "4     IQ Capital CEO Keith Bliss says tech and healt...   \n",
       "5     Wall Street delivered the 'kind of pullback I'...   \n",
       "...                                                 ...   \n",
       "3075                       Markets lack Christmas cheer   \n",
       "3076  Cramer Remix: The biggest mistake you can make...   \n",
       "3077  Cramer says owning too many stocks and too lit...   \n",
       "3078  Cramer: I helped investors through the 2010 fl...   \n",
       "3079  Cramer: Never buy a stock all at once — you'll...   \n",
       "\n",
       "                                Time  Sentiment  \n",
       "0      7:51  PM ET Fri, 17 July 2020          5  \n",
       "1      7:33  PM ET Fri, 17 July 2020          4  \n",
       "3      7:25  PM ET Fri, 17 July 2020          5  \n",
       "4      4:24  PM ET Fri, 17 July 2020          5  \n",
       "5      7:36  PM ET Thu, 16 July 2020          4  \n",
       "...                              ...        ...  \n",
       "3075   10:15  AM ET Tue, 26 Dec 2017          1  \n",
       "3076  11:12  AM ET Thu, 20 Sept 2018          1  \n",
       "3077    7:07  PM ET Fri, 22 Dec 2017          1  \n",
       "3078    7:07  PM ET Fri, 22 Dec 2017          4  \n",
       "3079    6:52  PM ET Fri, 22 Dec 2017          1  \n",
       "\n",
       "[2800 rows x 3 columns]"
      ]
     },
     "execution_count": 133,
     "metadata": {},
     "output_type": "execute_result"
    }
   ],
   "source": [
    "cnbc_df"
   ]
  },
  {
   "cell_type": "code",
   "execution_count": 120,
   "id": "a8b9b4ed-5870-4d4c-9690-32b6073b11c4",
   "metadata": {},
   "outputs": [
    {
     "data": {
      "text/html": [
       "<div>\n",
       "<style scoped>\n",
       "    .dataframe tbody tr th:only-of-type {\n",
       "        vertical-align: middle;\n",
       "    }\n",
       "\n",
       "    .dataframe tbody tr th {\n",
       "        vertical-align: top;\n",
       "    }\n",
       "\n",
       "    .dataframe thead th {\n",
       "        text-align: right;\n",
       "    }\n",
       "</style>\n",
       "<table border=\"1\" class=\"dataframe\">\n",
       "  <thead>\n",
       "    <tr style=\"text-align: right;\">\n",
       "      <th></th>\n",
       "      <th>Time</th>\n",
       "      <th>Headlines</th>\n",
       "      <th>Sentiment</th>\n",
       "    </tr>\n",
       "  </thead>\n",
       "  <tbody>\n",
       "    <tr>\n",
       "      <th>0</th>\n",
       "      <td>18-Jul-20</td>\n",
       "      <td>Johnson is asking Santa for a Christmas recovery</td>\n",
       "      <td>4</td>\n",
       "    </tr>\n",
       "    <tr>\n",
       "      <th>1</th>\n",
       "      <td>18-Jul-20</td>\n",
       "      <td>‘I now fear the worst’: four grim tales of wor...</td>\n",
       "      <td>1</td>\n",
       "    </tr>\n",
       "    <tr>\n",
       "      <th>2</th>\n",
       "      <td>18-Jul-20</td>\n",
       "      <td>Five key areas Sunak must tackle to serve up e...</td>\n",
       "      <td>5</td>\n",
       "    </tr>\n",
       "    <tr>\n",
       "      <th>3</th>\n",
       "      <td>18-Jul-20</td>\n",
       "      <td>Covid-19 leaves firms ‘fatally ill-prepared’ f...</td>\n",
       "      <td>1</td>\n",
       "    </tr>\n",
       "    <tr>\n",
       "      <th>4</th>\n",
       "      <td>18-Jul-20</td>\n",
       "      <td>The Week in Patriarchy  \\n\\n\\n  Bacardi's 'lad...</td>\n",
       "      <td>5</td>\n",
       "    </tr>\n",
       "    <tr>\n",
       "      <th>...</th>\n",
       "      <td>...</td>\n",
       "      <td>...</td>\n",
       "      <td>...</td>\n",
       "    </tr>\n",
       "    <tr>\n",
       "      <th>17795</th>\n",
       "      <td>17-Dec-17</td>\n",
       "      <td>How investing in solar energy can create a bri...</td>\n",
       "      <td>5</td>\n",
       "    </tr>\n",
       "    <tr>\n",
       "      <th>17796</th>\n",
       "      <td>17-Dec-17</td>\n",
       "      <td>Poundland suppliers hit by insurance downgrade</td>\n",
       "      <td>1</td>\n",
       "    </tr>\n",
       "    <tr>\n",
       "      <th>17797</th>\n",
       "      <td>17-Dec-17</td>\n",
       "      <td>Cryptocurrencies: City watchdog to investigate...</td>\n",
       "      <td>4</td>\n",
       "    </tr>\n",
       "    <tr>\n",
       "      <th>17798</th>\n",
       "      <td>17-Dec-17</td>\n",
       "      <td>Unilever sells household name spreads to KKR f...</td>\n",
       "      <td>1</td>\n",
       "    </tr>\n",
       "    <tr>\n",
       "      <th>17799</th>\n",
       "      <td>17-Dec-17</td>\n",
       "      <td>The Guardian view on Ryanair’s model: a union-...</td>\n",
       "      <td>3</td>\n",
       "    </tr>\n",
       "  </tbody>\n",
       "</table>\n",
       "<p>17800 rows × 3 columns</p>\n",
       "</div>"
      ],
      "text/plain": [
       "            Time                                          Headlines  Sentiment\n",
       "0      18-Jul-20   Johnson is asking Santa for a Christmas recovery          4\n",
       "1      18-Jul-20  ‘I now fear the worst’: four grim tales of wor...          1\n",
       "2      18-Jul-20  Five key areas Sunak must tackle to serve up e...          5\n",
       "3      18-Jul-20  Covid-19 leaves firms ‘fatally ill-prepared’ f...          1\n",
       "4      18-Jul-20  The Week in Patriarchy  \\n\\n\\n  Bacardi's 'lad...          5\n",
       "...          ...                                                ...        ...\n",
       "17795  17-Dec-17  How investing in solar energy can create a bri...          5\n",
       "17796  17-Dec-17     Poundland suppliers hit by insurance downgrade          1\n",
       "17797  17-Dec-17  Cryptocurrencies: City watchdog to investigate...          4\n",
       "17798  17-Dec-17  Unilever sells household name spreads to KKR f...          1\n",
       "17799  17-Dec-17  The Guardian view on Ryanair’s model: a union-...          3\n",
       "\n",
       "[17800 rows x 3 columns]"
      ]
     },
     "execution_count": 120,
     "metadata": {},
     "output_type": "execute_result"
    }
   ],
   "source": [
    "guardian_df"
   ]
  },
  {
   "cell_type": "code",
   "execution_count": 130,
   "id": "e02bbd2f-64c3-48d5-9e02-aa155d0bd5ee",
   "metadata": {},
   "outputs": [
    {
     "data": {
      "text/html": [
       "<div>\n",
       "<style scoped>\n",
       "    .dataframe tbody tr th:only-of-type {\n",
       "        vertical-align: middle;\n",
       "    }\n",
       "\n",
       "    .dataframe tbody tr th {\n",
       "        vertical-align: top;\n",
       "    }\n",
       "\n",
       "    .dataframe thead th {\n",
       "        text-align: right;\n",
       "    }\n",
       "</style>\n",
       "<table border=\"1\" class=\"dataframe\">\n",
       "  <thead>\n",
       "    <tr style=\"text-align: right;\">\n",
       "      <th></th>\n",
       "      <th>Headlines</th>\n",
       "      <th>Time</th>\n",
       "      <th>Sentiment</th>\n",
       "    </tr>\n",
       "  </thead>\n",
       "  <tbody>\n",
       "    <tr>\n",
       "      <th>0</th>\n",
       "      <td>TikTok considers London and other locations fo...</td>\n",
       "      <td>Jul 18 2020</td>\n",
       "      <td>3</td>\n",
       "    </tr>\n",
       "    <tr>\n",
       "      <th>1</th>\n",
       "      <td>Disney cuts ad spending on Facebook amid growi...</td>\n",
       "      <td>Jul 18 2020</td>\n",
       "      <td>1</td>\n",
       "    </tr>\n",
       "    <tr>\n",
       "      <th>2</th>\n",
       "      <td>Trail of missing Wirecard executive leads to B...</td>\n",
       "      <td>Jul 18 2020</td>\n",
       "      <td>1</td>\n",
       "    </tr>\n",
       "    <tr>\n",
       "      <th>3</th>\n",
       "      <td>Twitter says attackers downloaded data from up...</td>\n",
       "      <td>Jul 18 2020</td>\n",
       "      <td>1</td>\n",
       "    </tr>\n",
       "    <tr>\n",
       "      <th>4</th>\n",
       "      <td>U.S. Republicans seek liability protections as...</td>\n",
       "      <td>Jul 17 2020</td>\n",
       "      <td>1</td>\n",
       "    </tr>\n",
       "    <tr>\n",
       "      <th>...</th>\n",
       "      <td>...</td>\n",
       "      <td>...</td>\n",
       "      <td>...</td>\n",
       "    </tr>\n",
       "    <tr>\n",
       "      <th>32765</th>\n",
       "      <td>Malaysia says never hired British data firm at...</td>\n",
       "      <td>Mar 20 2018</td>\n",
       "      <td>1</td>\n",
       "    </tr>\n",
       "    <tr>\n",
       "      <th>32766</th>\n",
       "      <td>Prosecutors search Volkswagen headquarters in ...</td>\n",
       "      <td>Mar 20 2018</td>\n",
       "      <td>1</td>\n",
       "    </tr>\n",
       "    <tr>\n",
       "      <th>32767</th>\n",
       "      <td>McDonald's sets greenhouse gas reduction targets</td>\n",
       "      <td>Mar 20 2018</td>\n",
       "      <td>5</td>\n",
       "    </tr>\n",
       "    <tr>\n",
       "      <th>32768</th>\n",
       "      <td>Pratt &amp; Whitney to deliver spare A320neo engin...</td>\n",
       "      <td>Mar 20 2018</td>\n",
       "      <td>5</td>\n",
       "    </tr>\n",
       "    <tr>\n",
       "      <th>32769</th>\n",
       "      <td>UK will always consider ways to improve data l...</td>\n",
       "      <td>Mar 20 2018</td>\n",
       "      <td>5</td>\n",
       "    </tr>\n",
       "  </tbody>\n",
       "</table>\n",
       "<p>32770 rows × 3 columns</p>\n",
       "</div>"
      ],
      "text/plain": [
       "                                               Headlines         Time  \\\n",
       "0      TikTok considers London and other locations fo...  Jul 18 2020   \n",
       "1      Disney cuts ad spending on Facebook amid growi...  Jul 18 2020   \n",
       "2      Trail of missing Wirecard executive leads to B...  Jul 18 2020   \n",
       "3      Twitter says attackers downloaded data from up...  Jul 18 2020   \n",
       "4      U.S. Republicans seek liability protections as...  Jul 17 2020   \n",
       "...                                                  ...          ...   \n",
       "32765  Malaysia says never hired British data firm at...  Mar 20 2018   \n",
       "32766  Prosecutors search Volkswagen headquarters in ...  Mar 20 2018   \n",
       "32767   McDonald's sets greenhouse gas reduction targets  Mar 20 2018   \n",
       "32768  Pratt & Whitney to deliver spare A320neo engin...  Mar 20 2018   \n",
       "32769  UK will always consider ways to improve data l...  Mar 20 2018   \n",
       "\n",
       "       Sentiment  \n",
       "0              3  \n",
       "1              1  \n",
       "2              1  \n",
       "3              1  \n",
       "4              1  \n",
       "...          ...  \n",
       "32765          1  \n",
       "32766          1  \n",
       "32767          5  \n",
       "32768          5  \n",
       "32769          5  \n",
       "\n",
       "[32770 rows x 3 columns]"
      ]
     },
     "execution_count": 130,
     "metadata": {},
     "output_type": "execute_result"
    }
   ],
   "source": [
    "reuters_df"
   ]
  },
  {
   "cell_type": "markdown",
   "id": "ab0bb000-4db5-4e99-9b94-5c1c1139d863",
   "metadata": {},
   "source": [
    "## Visualize Results"
   ]
  },
  {
   "cell_type": "code",
   "execution_count": 134,
   "id": "afffddd3-16e7-4750-9312-b090efa46c68",
   "metadata": {},
   "outputs": [],
   "source": [
    "import matplotlib.pyplot as plt"
   ]
  },
  {
   "cell_type": "code",
   "execution_count": 149,
   "id": "f30399a6-3277-45b3-b749-c594fc7c7844",
   "metadata": {},
   "outputs": [],
   "source": [
    "def plot_pie_sentiment(df, name):\n",
    "    sentiment_counts = df['Sentiment'].value_counts()\n",
    "    \n",
    "    # Plot the pie chart\n",
    "    plt.figure(figsize=(8, 8))\n",
    "    plt.pie(sentiment_counts, labels=sentiment_counts.index, autopct='%1.1f%%', startangle=140)\n",
    "    \n",
    "    # Add a legend\n",
    "    plt.legend(title='Sentiments', labels=sentiment_counts.index, loc='upper left')\n",
    "    \n",
    "    plt.title('Distribution of Sentiments in ' + name + ' Dataset')\n",
    "    plt.axis('equal')  # Equal aspect ratio ensures that pie is drawn as a circle.\n",
    "    \n",
    "    plt.show()"
   ]
  },
  {
   "cell_type": "code",
   "execution_count": 165,
   "id": "056217b0-5568-47e3-871f-31f7bee6de9b",
   "metadata": {},
   "outputs": [
    {
     "data": {
      "image/png": "[encoded data removed]",
      "text/plain": [
       "<Figure size 800x800 with 1 Axes>"
      ]
     },
     "metadata": {},
     "output_type": "display_data"
    },
    {
     "data": {
      "image/png": "[encoded data removed]",
      "text/plain": [
       "<Figure size 800x800 with 1 Axes>"
      ]
     },
     "metadata": {},
     "output_type": "display_data"
    },
    {
     "data": {
      "image/png": "[encoded data removed]",
      "text/plain": [
       "<Figure size 800x800 with 1 Axes>"
      ]
     },
     "metadata": {},
     "output_type": "display_data"
    }
   ],
   "source": [
    "plot_pie_sentiment(cnbc_df, 'CNBC')\n",
    "plot_pie_sentiment(guardian_df, 'Guardian')\n",
    "plot_pie_sentiment(reuters_df, 'Reuters')"
   ]
  },
  {
   "cell_type": "markdown",
   "id": "b38a7bb9-89e7-42b1-91ec-c6c2e2bbb070",
   "metadata": {},
   "source": [
    "Wow, it seems most of the financial news from these outlets is on the negative side. "
   ]
  },
  {
   "cell_type": "markdown",
   "id": "0f11ea1b-fc53-4284-ab5b-8b466cf2bd14",
   "metadata": {},
   "source": [
    "## Let's Export the Dataframes"
   ]
  },
  {
   "cell_type": "code",
   "execution_count": 131,
   "id": "c053bfd7-1e5b-48ba-9b4a-7ed532a85b76",
   "metadata": {},
   "outputs": [],
   "source": [
    "cnbc_df.to_csv('cnbc_sentiment.csv')\n",
    "guardian_df.to_csv('guardian_sentiment.csv')\n",
    "reuters_df.to_csv('reuters_sentiment.csv')"
   ]
  }
 ],
 "metadata": {
  "kernelspec": {
   "display_name": "Python 3 (ipykernel)",
   "language": "python",
   "name": "python3"
  },
  "language_info": {
   "codemirror_mode": {
    "name": "ipython",
    "version": 3
   },
   "file_extension": ".py",
   "mimetype": "text/x-python",
   "name": "python",
   "nbconvert_exporter": "python",
   "pygments_lexer": "ipython3",
   "version": "3.11.4"
  }
 },
 "nbformat": 4,
 "nbformat_minor": 5
}
